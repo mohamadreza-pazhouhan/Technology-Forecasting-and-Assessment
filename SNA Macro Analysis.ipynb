{
 "cells": [
  {
   "cell_type": "code",
   "execution_count": 49,
   "id": "d43c9b21",
   "metadata": {},
   "outputs": [],
   "source": [
    "import networkx as nx\n",
    "\n",
    "# Load the graph from the GraphML file\n",
    "G = nx.read_graphml('c://users/admin/desktop/test.graphml')\n",
    "\n",
    "\n",
    "# Calculate alpha, beta, gamma\n",
    "v = len(G.nodes())\n",
    "e = len(G.edges())\n",
    "p = nx.number_connected_components(G)\n",
    "u = e - v + p\n",
    "\n",
    "alpha = u / ((2*v) - 5)\n",
    "beta = e / v\n",
    "gamma = e / (v * (v - 1) / 2)\n",
    "\n",
    "# Calculate network heterogeneity\n",
    "degrees = [d for n, d in G.degree()]\n",
    "avg_degree = sum(degrees) / v\n",
    "heterogeneity = sum([(d - avg_degree)**2 for d in degrees]) / v\n",
    "\n",
    "# Calculate average shortest path length for each connected component\n",
    "component_avg_shortest_path_lengths = []\n",
    "for component_nodes in nx.connected_components(G):\n",
    "    component = G.subgraph(component_nodes)\n",
    "    component_avg_shortest_path_lengths.append(nx.average_shortest_path_length(component))\n",
    "\n",
    "# Calculate the overall average shortest path length\n",
    "average_shortest_path_length = sum(component_avg_shortest_path_lengths) / len(component_avg_shortest_path_lengths)\n",
    "# Find the number of triangles\n",
    "triangles = sum(nx.triangles(G).values()) / 3  # divide by 3 since each triangle is counted thrice\n",
    "\n",
    "transitivity = nx.average_clustering(G)\n",
    "\n",
    "# Find isolated nodes\n",
    "isolated_nodes = [n for n in G.nodes() if G.degree(n) == 0]\n",
    "isolated_nodes = len(list(nx.isolates(G)))\n",
    "\n",
    "# Calculate assortativity\n",
    "assortativity = nx.degree_assortativity_coefficient(G)"
   ]
  },
  {
   "cell_type": "code",
   "execution_count": 51,
   "id": "26e62063",
   "metadata": {},
   "outputs": [
    {
     "name": "stdout",
     "output_type": "stream",
     "text": [
      "Measure                         Value\n",
      "----------------------------  -------\n",
      "Nodes (v)                        5\n",
      "Edges (e)                        4\n",
      "Sub-graphs (p)                   2\n",
      "Cycles (u)                       1\n",
      "Alpha                            0.2\n",
      "Beta                             0.8\n",
      "Gamma                            0.4\n",
      "Average Shortest Path Length     1\n",
      "Transitivity                     0.6\n",
      "Isolated Nodes                   0\n",
      "Network heterogeneity            0.24\n",
      "Assortativity                    1\n",
      "Average degree                   1.6\n"
     ]
    }
   ],
   "source": [
    "from tabulate import tabulate\n",
    "# Print the results in a table\n",
    "results_table = [\n",
    "    [\"Nodes (v)\", v],\n",
    "    [\"Edges (e)\", e],\n",
    "    [\"Sub-graphs (p)\", p],\n",
    "    [\"Cycles (u)\", u],\n",
    "    [\"Alpha \", alpha],\n",
    "    [\"Beta \", beta],\n",
    "    [\"Gamma\", gamma],\n",
    "    [\"Average Shortest Path Length\", average_shortest_path_length],\n",
    "    [\"Transitivity\", transitivity],\n",
    "    [\"Isolated Nodes\", isolated_nodes],\n",
    "    [\"Network heterogeneity\", heterogeneity],\n",
    "    [\"Assortativity\", assortativity],\n",
    "    [\"Average degree\", avg_degree],\n",
    "]\n",
    "print(tabulate(results_table, headers=[\"Measure\", \"Value\"]))"
   ]
  }
 ],
 "metadata": {
  "kernelspec": {
   "display_name": "Python 3 (ipykernel)",
   "language": "python",
   "name": "python3"
  },
  "language_info": {
   "codemirror_mode": {
    "name": "ipython",
    "version": 3
   },
   "file_extension": ".py",
   "mimetype": "text/x-python",
   "name": "python",
   "nbconvert_exporter": "python",
   "pygments_lexer": "ipython3",
   "version": "3.9.13"
  }
 },
 "nbformat": 4,
 "nbformat_minor": 5
}
